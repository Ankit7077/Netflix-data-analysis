{
 "cells": [
  {
   "cell_type": "code",
   "execution_count": null,
   "id": "b83d56be",
   "metadata": {},
   "outputs": [
    {
     "name": "stdout",
     "output_type": "stream",
     "text": [
      "<class 'pandas.core.frame.DataFrame'>\n",
      "RangeIndex: 8809 entries, 0 to 8808\n",
      "Data columns (total 26 columns):\n",
      " #   Column        Non-Null Count  Dtype  \n",
      "---  ------        --------------  -----  \n",
      " 0   show_id       8809 non-null   object \n",
      " 1   type          8809 non-null   object \n",
      " 2   title         8809 non-null   object \n",
      " 3   director      6175 non-null   object \n",
      " 4   cast          7984 non-null   object \n",
      " 5   country       7978 non-null   object \n",
      " 6   date_added    8799 non-null   object \n",
      " 7   release_year  8809 non-null   int64  \n",
      " 8   rating        8805 non-null   object \n",
      " 9   duration      8806 non-null   object \n",
      " 10  listed_in     8809 non-null   object \n",
      " 11  description   8809 non-null   object \n",
      " 12  Unnamed: 12   0 non-null      float64\n",
      " 13  Unnamed: 13   0 non-null      float64\n",
      " 14  Unnamed: 14   0 non-null      float64\n",
      " 15  Unnamed: 15   0 non-null      float64\n",
      " 16  Unnamed: 16   0 non-null      float64\n",
      " 17  Unnamed: 17   0 non-null      float64\n",
      " 18  Unnamed: 18   0 non-null      float64\n",
      " 19  Unnamed: 19   0 non-null      float64\n",
      " 20  Unnamed: 20   0 non-null      float64\n",
      " 21  Unnamed: 21   0 non-null      float64\n",
      " 22  Unnamed: 22   0 non-null      float64\n",
      " 23  Unnamed: 23   0 non-null      float64\n",
      " 24  Unnamed: 24   0 non-null      float64\n",
      " 25  Unnamed: 25   0 non-null      float64\n",
      "dtypes: float64(14), int64(1), object(11)\n",
      "memory usage: 1.7+ MB\n",
      "0    September 25, 2021\n",
      "1    September 24, 2021\n",
      "2    September 24, 2021\n",
      "3    September 24, 2021\n",
      "4    September 24, 2021\n",
      "5    September 24, 2021\n",
      "6    September 24, 2021\n",
      "7    September 24, 2021\n",
      "8    September 24, 2021\n",
      "9    September 24, 2021\n",
      "Name: date_added, dtype: object\n"
     ]
    }
   ],
   "source": [
    "import pandas as pd\n",
    "df = pd.read_csv(\"C:\\\\Users\\\\hp\\\\OneDrive\\\\Desktop\\\\netflix_titles.csv\", encoding='ISO-8859-1')\n",
    "df.info(),df.head()\n",
    "\n",
    "missing_values = df.isnull().sum()\n",
    "\n",
    "df_cleaned = df.drop_duplicates()\n",
    "print(df_cleaned['date_added'].head(10))\n",
    "\n",
    "for col in df_cleaned.select_dtypes(include='object').columns:\n",
    "   df_cleaned['date_added'] = pd.to_datetime(df_cleaned['date_added'], format='%B %d, %Y', errors='coerce')\n",
    "\n",
    "for col in df_cleaned.columns:\n",
    "    if 'date' in col.lower():\n",
    "        try:\n",
    "            df_cleaned[col] = pd.to_datetime(df_cleaned[col])\n",
    "        except:\n",
    "            pass\n",
    "df_cleaned.columns = df_cleaned.columns.str.lower().str.strip().str.replace(' ', '_')\n",
    "\n",
    "for col in df_cleaned.columns:\n",
    "    if df_cleaned[col].dtype == 'object':\n",
    "        try:\n",
    "            df_cleaned[col] = pd.to_numeric(df_cleaned[col])\n",
    "         \n",
    "        except:\n",
    "            pass\n",
    "\n",
    "\n"
   ]
  },
  {
   "cell_type": "code",
   "execution_count": 4,
   "id": "bcb5387c",
   "metadata": {},
   "outputs": [],
   "source": [
    "df['date_added'] = pd.to_datetime(df['date_added'], format='%B %d, %Y', errors='coerce')\n"
   ]
  },
  {
   "cell_type": "code",
   "execution_count": 5,
   "id": "c1294248",
   "metadata": {},
   "outputs": [],
   "source": [
    "df = df.drop(columns=[col for col in df.columns if 'Unnamed' in col])\n"
   ]
  },
  {
   "cell_type": "code",
   "execution_count": null,
   "id": "1433bba7",
   "metadata": {},
   "outputs": [
    {
     "name": "stdout",
     "output_type": "stream",
     "text": [
      "<class 'pandas.core.frame.DataFrame'>\n",
      "RangeIndex: 8809 entries, 0 to 8808\n",
      "Data columns (total 12 columns):\n",
      " #   Column        Non-Null Count  Dtype         \n",
      "---  ------        --------------  -----         \n",
      " 0   show_id       8809 non-null   object        \n",
      " 1   type          8809 non-null   object        \n",
      " 2   title         8809 non-null   object        \n",
      " 3   director      6175 non-null   object        \n",
      " 4   cast          7984 non-null   object        \n",
      " 5   country       7978 non-null   object        \n",
      " 6   date_added    8711 non-null   datetime64[ns]\n",
      " 7   release_year  8809 non-null   int64         \n",
      " 8   rating        8805 non-null   object        \n",
      " 9   duration      8806 non-null   object        \n",
      " 10  listed_in     8809 non-null   object        \n",
      " 11  description   8809 non-null   object        \n",
      "dtypes: datetime64[ns](1), int64(1), object(10)\n",
      "memory usage: 826.0+ KB\n"
     ]
    }
   ],
   "source": [
    "df.info()\n"
   ]
  },
  {
   "cell_type": "code",
   "execution_count": null,
   "id": "31d0d489",
   "metadata": {},
   "outputs": [],
   "source": []
  }
 ],
 "metadata": {
  "kernelspec": {
   "display_name": "base",
   "language": "python",
   "name": "python3"
  },
  "language_info": {
   "codemirror_mode": {
    "name": "ipython",
    "version": 3
   },
   "file_extension": ".py",
   "mimetype": "text/x-python",
   "name": "python",
   "nbconvert_exporter": "python",
   "pygments_lexer": "ipython3",
   "version": "3.13.5"
  }
 },
 "nbformat": 4,
 "nbformat_minor": 5
}
